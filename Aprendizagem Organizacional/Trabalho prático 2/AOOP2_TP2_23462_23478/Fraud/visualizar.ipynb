{
 "cells": [
  {
   "cell_type": "code",
   "execution_count": 1,
   "metadata": {
    "execution": {
     "iopub.execute_input": "2022-05-31T12:47:54.215428Z",
     "iopub.status.busy": "2022-05-31T12:47:54.214942Z",
     "iopub.status.idle": "2022-05-31T12:47:55.748956Z",
     "shell.execute_reply": "2022-05-31T12:47:55.747932Z",
     "shell.execute_reply.started": "2022-05-31T12:47:54.215329Z"
    }
   },
   "outputs": [
    {
     "data": {
      "text/html": [
       "<div>\n",
       "<style scoped>\n",
       "    .dataframe tbody tr th:only-of-type {\n",
       "        vertical-align: middle;\n",
       "    }\n",
       "\n",
       "    .dataframe tbody tr th {\n",
       "        vertical-align: top;\n",
       "    }\n",
       "\n",
       "    .dataframe thead th {\n",
       "        text-align: right;\n",
       "    }\n",
       "</style>\n",
       "<table border=\"1\" class=\"dataframe\">\n",
       "  <thead>\n",
       "    <tr style=\"text-align: right;\">\n",
       "      <th></th>\n",
       "      <th>ip_address</th>\n",
       "      <th>email_address</th>\n",
       "      <th>billing_postal</th>\n",
       "      <th>billing_address</th>\n",
       "      <th>EVENT_LABEL</th>\n",
       "    </tr>\n",
       "  </thead>\n",
       "  <tbody>\n",
       "    <tr>\n",
       "      <th>0</th>\n",
       "      <td>112</td>\n",
       "      <td>0</td>\n",
       "      <td>34491</td>\n",
       "      <td>12351</td>\n",
       "      <td>1</td>\n",
       "    </tr>\n",
       "    <tr>\n",
       "      <th>1</th>\n",
       "      <td>192</td>\n",
       "      <td>0</td>\n",
       "      <td>34555</td>\n",
       "      <td>691</td>\n",
       "      <td>1</td>\n",
       "    </tr>\n",
       "    <tr>\n",
       "      <th>2</th>\n",
       "      <td>185</td>\n",
       "      <td>0</td>\n",
       "      <td>33611</td>\n",
       "      <td>28583</td>\n",
       "      <td>1</td>\n",
       "    </tr>\n",
       "    <tr>\n",
       "      <th>3</th>\n",
       "      <td>68</td>\n",
       "      <td>0</td>\n",
       "      <td>33520</td>\n",
       "      <td>019</td>\n",
       "      <td>1</td>\n",
       "    </tr>\n",
       "    <tr>\n",
       "      <th>4</th>\n",
       "      <td>117</td>\n",
       "      <td>2</td>\n",
       "      <td>33889</td>\n",
       "      <td>1023</td>\n",
       "      <td>1</td>\n",
       "    </tr>\n",
       "    <tr>\n",
       "      <th>5</th>\n",
       "      <td>94</td>\n",
       "      <td>1</td>\n",
       "      <td>34362</td>\n",
       "      <td>520</td>\n",
       "      <td>1</td>\n",
       "    </tr>\n",
       "    <tr>\n",
       "      <th>6</th>\n",
       "      <td>33</td>\n",
       "      <td>2</td>\n",
       "      <td>34421</td>\n",
       "      <td>30898</td>\n",
       "      <td>1</td>\n",
       "    </tr>\n",
       "    <tr>\n",
       "      <th>7</th>\n",
       "      <td>204</td>\n",
       "      <td>0</td>\n",
       "      <td>33605</td>\n",
       "      <td>8307</td>\n",
       "      <td>1</td>\n",
       "    </tr>\n",
       "    <tr>\n",
       "      <th>8</th>\n",
       "      <td>49</td>\n",
       "      <td>2</td>\n",
       "      <td>33918</td>\n",
       "      <td>284</td>\n",
       "      <td>1</td>\n",
       "    </tr>\n",
       "    <tr>\n",
       "      <th>9</th>\n",
       "      <td>42</td>\n",
       "      <td>2</td>\n",
       "      <td>34603</td>\n",
       "      <td>0793</td>\n",
       "      <td>1</td>\n",
       "    </tr>\n",
       "  </tbody>\n",
       "</table>\n",
       "</div>"
      ],
      "text/plain": [
       "  ip_address email_address  billing_postal billing_address  EVENT_LABEL\n",
       "0        112             0           34491           12351            1\n",
       "1        192             0           34555             691            1\n",
       "2        185             0           33611           28583            1\n",
       "3         68             0           33520             019            1\n",
       "4        117             2           33889            1023            1\n",
       "5         94             1           34362             520            1\n",
       "6         33             2           34421           30898            1\n",
       "7        204             0           33605            8307            1\n",
       "8         49             2           33918             284            1\n",
       "9         42             2           34603            0793            1"
      ]
     },
     "execution_count": 1,
     "metadata": {},
     "output_type": "execute_result"
    }
   ],
   "source": [
    "# -*- coding: utf-8 -*-\n",
    "## Exemplo de Criação de um modelo de Previsão/Classificação usando as Arvores de Decisão\n",
    "## Example of Creating a Forecast/Classification model using Decision Trees\n",
    "\n",
    "import numpy as np\n",
    "import pandas as pd\n",
    "import matplotlib.pyplot as plt\n",
    "\n",
    "import seaborn as sns\n",
    "from sklearn.model_selection import train_test_split\n",
    "from sklearn.tree import DecisionTreeClassifier\n",
    "from sklearn import metrics\n",
    "from sklearn.model_selection import train_test_split\n",
    "from sklearn.metrics import confusion_matrix\n",
    "from sklearn import tree\n",
    "from subprocess import call\n",
    "\n",
    "plt.rcParams['figure.facecolor'] = 'white'\n",
    "\n",
    "df = pd.read_csv('../Fraud/dataset/registration_data_20K_full.csv',sep=',',header=0)\n",
    "i = 0\n",
    "for d in df['ip_address']:\n",
    "    d = (d.split(\".\",1))\n",
    "    #print(d[0])\n",
    "    df.loc[i, 'ip_address'] = d[0]\n",
    "    i = i+1\n",
    "j=0\n",
    "for d in df['email_address']:\n",
    "    d = (d.split(\"@\",1))\n",
    "    #print(d[1])\n",
    "    if(d[1] == \"example.net\"):\n",
    "        df.loc[j, 'email_address'] = 0\n",
    "    elif(d[1] == \"example.org\"):\n",
    "        df.loc[j, 'email_address'] = 1\n",
    "    elif(d[1] == \"example.com\"):\n",
    "        df.loc[j, 'email_address'] = 2\n",
    "    j = j + 1\n",
    "z=0\n",
    "for d in df['billing_address']:\n",
    "    d = (d.split(\" \",1))\n",
    "    #print(d[0])\n",
    "    df.loc[z, 'billing_address'] = d[0]\n",
    "    z = z + 1\n",
    "df = df.drop('billing_state', axis=1)\n",
    "df = df.drop('user_agent', axis=1)\n",
    "df = df.drop('phone_number', axis=1)\n",
    "df = df.drop('EVENT_TIMESTAMP', axis=1)\n",
    "df[\"EVENT_LABEL\"]= df[\"EVENT_LABEL\"].map({\"legit\": 1,\"fraud\": 0})\n",
    "raw_data = df.copy()\n",
    "df.head(10)     #Mostra as primeiras n linhas do conjunto de dados\n",
    "#df.tail(5)     #Mostra as últimas n linhas do conjunto de dados"
   ]
  },
  {
   "cell_type": "code",
   "execution_count": 2,
   "metadata": {
    "execution": {
     "iopub.execute_input": "2022-05-31T12:49:36.795425Z",
     "iopub.status.busy": "2022-05-31T12:49:36.794774Z",
     "iopub.status.idle": "2022-05-31T12:49:36.869883Z",
     "shell.execute_reply": "2022-05-31T12:49:36.869174Z",
     "shell.execute_reply.started": "2022-05-31T12:49:36.795379Z"
    }
   },
   "outputs": [],
   "source": [
    "np.set_printoptions(suppress=True)\n",
    "\n",
    "# Defining some regular bins\n",
    "# Bin for variation coefiecient\n",
    "bins_var = [-1, -0.8, -0.6, -0.4, -0.2, 0, 0.2, 0.4, 0.6, 0.8, 1]\n",
    "\n",
    "# Bin for values between 0 and 1\n",
    "bins_from_zero = [0, 0.2, 0.4, 0.6, 0.8, 1]\n"
   ]
  },
  {
   "cell_type": "code",
   "execution_count": 3,
   "metadata": {},
   "outputs": [
    {
     "data": {
      "text/html": [
       "<div>\n",
       "<style scoped>\n",
       "    .dataframe tbody tr th:only-of-type {\n",
       "        vertical-align: middle;\n",
       "    }\n",
       "\n",
       "    .dataframe tbody tr th {\n",
       "        vertical-align: top;\n",
       "    }\n",
       "\n",
       "    .dataframe thead th {\n",
       "        text-align: right;\n",
       "    }\n",
       "</style>\n",
       "<table border=\"1\" class=\"dataframe\">\n",
       "  <thead>\n",
       "    <tr style=\"text-align: right;\">\n",
       "      <th></th>\n",
       "      <th>Valor</th>\n",
       "    </tr>\n",
       "  </thead>\n",
       "  <tbody>\n",
       "    <tr>\n",
       "      <th>count</th>\n",
       "      <td>20000.000000</td>\n",
       "    </tr>\n",
       "    <tr>\n",
       "      <th>mean</th>\n",
       "      <td>0.949550</td>\n",
       "    </tr>\n",
       "    <tr>\n",
       "      <th>std</th>\n",
       "      <td>0.218877</td>\n",
       "    </tr>\n",
       "    <tr>\n",
       "      <th>min</th>\n",
       "      <td>0.000000</td>\n",
       "    </tr>\n",
       "    <tr>\n",
       "      <th>25%</th>\n",
       "      <td>1.000000</td>\n",
       "    </tr>\n",
       "    <tr>\n",
       "      <th>50%</th>\n",
       "      <td>1.000000</td>\n",
       "    </tr>\n",
       "    <tr>\n",
       "      <th>75%</th>\n",
       "      <td>1.000000</td>\n",
       "    </tr>\n",
       "    <tr>\n",
       "      <th>max</th>\n",
       "      <td>1.000000</td>\n",
       "    </tr>\n",
       "    <tr>\n",
       "      <th>mode</th>\n",
       "      <td>1.000000</td>\n",
       "    </tr>\n",
       "  </tbody>\n",
       "</table>\n",
       "</div>"
      ],
      "text/plain": [
       "              Valor\n",
       "count  20000.000000\n",
       "mean       0.949550\n",
       "std        0.218877\n",
       "min        0.000000\n",
       "25%        1.000000\n",
       "50%        1.000000\n",
       "75%        1.000000\n",
       "max        1.000000\n",
       "mode       1.000000"
      ]
     },
     "metadata": {},
     "output_type": "display_data"
    },
    {
     "data": {
      "text/html": [
       "<div>\n",
       "<style scoped>\n",
       "    .dataframe tbody tr th:only-of-type {\n",
       "        vertical-align: middle;\n",
       "    }\n",
       "\n",
       "    .dataframe tbody tr th {\n",
       "        vertical-align: top;\n",
       "    }\n",
       "\n",
       "    .dataframe thead th {\n",
       "        text-align: right;\n",
       "    }\n",
       "</style>\n",
       "<table border=\"1\" class=\"dataframe\">\n",
       "  <thead>\n",
       "    <tr style=\"text-align: right;\">\n",
       "      <th></th>\n",
       "      <th>Nº de Ips</th>\n",
       "    </tr>\n",
       "  </thead>\n",
       "  <tbody>\n",
       "    <tr>\n",
       "      <th>0</th>\n",
       "      <td>1009</td>\n",
       "    </tr>\n",
       "    <tr>\n",
       "      <th>1</th>\n",
       "      <td>18991</td>\n",
       "    </tr>\n",
       "  </tbody>\n",
       "</table>\n",
       "</div>"
      ],
      "text/plain": [
       "   Nº de Ips\n",
       "0       1009\n",
       "1      18991"
      ]
     },
     "metadata": {},
     "output_type": "display_data"
    },
    {
     "data": {
      "text/html": [
       "<div>\n",
       "<style scoped>\n",
       "    .dataframe tbody tr th:only-of-type {\n",
       "        vertical-align: middle;\n",
       "    }\n",
       "\n",
       "    .dataframe tbody tr th {\n",
       "        vertical-align: top;\n",
       "    }\n",
       "\n",
       "    .dataframe thead th {\n",
       "        text-align: right;\n",
       "    }\n",
       "</style>\n",
       "<table border=\"1\" class=\"dataframe\">\n",
       "  <thead>\n",
       "    <tr style=\"text-align: right;\">\n",
       "      <th></th>\n",
       "      <th>Nº de Ips</th>\n",
       "    </tr>\n",
       "  </thead>\n",
       "  <tbody>\n",
       "  </tbody>\n",
       "</table>\n",
       "</div>"
      ],
      "text/plain": [
       "Empty DataFrame\n",
       "Columns: [Nº de Ips]\n",
       "Index: []"
      ]
     },
     "metadata": {},
     "output_type": "display_data"
    },
    {
     "data": {
      "text/plain": [
       "<AxesSubplot:ylabel='EVENT_LABEL'>"
      ]
     },
     "execution_count": 3,
     "metadata": {},
     "output_type": "execute_result"
    },
    {
     "data": {
      "image/png": "[encoded data removed]",
      "text/plain": [
       "<Figure size 432x288 with 1 Axes>"
      ]
     },
     "metadata": {},
     "output_type": "display_data"
    }
   ],
   "source": [
    "curColumn = raw_data['EVENT_LABEL']\n",
    "\n",
    "fPorDistrito = curColumn[raw_data['ip_address'] == 1]\n",
    "empresasFalidasPorDistrito = pd.DataFrame(fPorDistrito.value_counts().sort_index())\n",
    "empresasFalidasPorDistrito.columns = ['Nº de Ips']\n",
    "\n",
    "colSummary = curColumn.describe()\n",
    "colSummary.loc['mode'] = curColumn.mode().tolist()[0]\n",
    "dfSummary = pd.DataFrame(colSummary)\n",
    "dfSummary.columns = ['Valor']\n",
    "display(dfSummary)\n",
    "\n",
    "totalPerAtrr = pd.DataFrame(curColumn.value_counts().sort_index())\n",
    "totalPerAtrr.columns = ['Nº de Ips']\n",
    "display(totalPerAtrr)\n",
    "display(empresasFalidasPorDistrito)\n",
    "\n",
    "curColumn.value_counts().sort_index().plot.pie(\n",
    "    autopct='%1.1f%%',\n",
    "    startangle=90,\n",
    "    radius=2,\n",
    "    pctdistance=1.1,\n",
    "    labeldistance=0.5\n",
    ")"
   ]
  },
  {
   "cell_type": "code",
   "execution_count": 4,
   "metadata": {
    "execution": {
     "iopub.execute_input": "2022-05-31T12:49:38.928374Z",
     "iopub.status.busy": "2022-05-31T12:49:38.927777Z",
     "iopub.status.idle": "2022-05-31T12:49:40.532284Z",
     "shell.execute_reply": "2022-05-31T12:49:40.531173Z",
     "shell.execute_reply.started": "2022-05-31T12:49:38.928338Z"
    }
   },
   "outputs": [
    {
     "data": {
      "text/html": [
       "<div>\n",
       "<style scoped>\n",
       "    .dataframe tbody tr th:only-of-type {\n",
       "        vertical-align: middle;\n",
       "    }\n",
       "\n",
       "    .dataframe tbody tr th {\n",
       "        vertical-align: top;\n",
       "    }\n",
       "\n",
       "    .dataframe thead th {\n",
       "        text-align: right;\n",
       "    }\n",
       "</style>\n",
       "<table border=\"1\" class=\"dataframe\">\n",
       "  <thead>\n",
       "    <tr style=\"text-align: right;\">\n",
       "      <th></th>\n",
       "      <th>Valor</th>\n",
       "    </tr>\n",
       "  </thead>\n",
       "  <tbody>\n",
       "    <tr>\n",
       "      <th>count</th>\n",
       "      <td>20000</td>\n",
       "    </tr>\n",
       "    <tr>\n",
       "      <th>unique</th>\n",
       "      <td>3</td>\n",
       "    </tr>\n",
       "    <tr>\n",
       "      <th>top</th>\n",
       "      <td>0</td>\n",
       "    </tr>\n",
       "    <tr>\n",
       "      <th>freq</th>\n",
       "      <td>6978</td>\n",
       "    </tr>\n",
       "    <tr>\n",
       "      <th>mode</th>\n",
       "      <td>0</td>\n",
       "    </tr>\n",
       "  </tbody>\n",
       "</table>\n",
       "</div>"
      ],
      "text/plain": [
       "        Valor\n",
       "count   20000\n",
       "unique      3\n",
       "top         0\n",
       "freq     6978\n",
       "mode        0"
      ]
     },
     "metadata": {},
     "output_type": "display_data"
    },
    {
     "data": {
      "text/html": [
       "<div>\n",
       "<style scoped>\n",
       "    .dataframe tbody tr th:only-of-type {\n",
       "        vertical-align: middle;\n",
       "    }\n",
       "\n",
       "    .dataframe tbody tr th {\n",
       "        vertical-align: top;\n",
       "    }\n",
       "\n",
       "    .dataframe thead th {\n",
       "        text-align: right;\n",
       "    }\n",
       "</style>\n",
       "<table border=\"1\" class=\"dataframe\">\n",
       "  <thead>\n",
       "    <tr style=\"text-align: right;\">\n",
       "      <th></th>\n",
       "      <th>Número de emails por tipo</th>\n",
       "    </tr>\n",
       "  </thead>\n",
       "  <tbody>\n",
       "    <tr>\n",
       "      <th>(0, 1]</th>\n",
       "      <td>6363</td>\n",
       "    </tr>\n",
       "    <tr>\n",
       "      <th>(1, 2]</th>\n",
       "      <td>6659</td>\n",
       "    </tr>\n",
       "  </tbody>\n",
       "</table>\n",
       "</div>"
      ],
      "text/plain": [
       "        Número de emails por tipo\n",
       "(0, 1]                       6363\n",
       "(1, 2]                       6659"
      ]
     },
     "metadata": {},
     "output_type": "display_data"
    },
    {
     "data": {
      "text/plain": [
       "<AxesSubplot:>"
      ]
     },
     "execution_count": 4,
     "metadata": {},
     "output_type": "execute_result"
    },
    {
     "data": {
      "image/png": "[encoded data removed]",
      "text/plain": [
       "<Figure size 432x288 with 1 Axes>"
      ]
     },
     "metadata": {
      "needs_background": "light"
     },
     "output_type": "display_data"
    }
   ],
   "source": [
    "curColumn = raw_data['email_address']\n",
    "var_empregados = curColumn.unique()\n",
    "var_empregados.sort()\n",
    "\n",
    "colSummary = curColumn.describe()\n",
    "colSummary.loc['mode'] = curColumn.mode().tolist()[0]\n",
    "dfSummary = pd.DataFrame(colSummary)\n",
    "dfSummary.columns = ['Valor']\n",
    "\n",
    "bins = [0,1,2]\n",
    "curColumn = pd.cut(curColumn, bins)\n",
    "\n",
    "dfIntervals = pd.DataFrame(curColumn.value_counts().sort_index())\n",
    "dfIntervals.columns = ['Número de emails por tipo']\n",
    "\n",
    "display(dfSummary)\n",
    "display(dfIntervals)\n",
    "curColumn.value_counts().sort_index().plot.bar()\n",
    "\n"
   ]
  },
  {
   "cell_type": "code",
   "execution_count": 7,
   "metadata": {
    "execution": {
     "iopub.execute_input": "2022-05-31T12:49:47.854120Z",
     "iopub.status.busy": "2022-05-31T12:49:47.853441Z",
     "iopub.status.idle": "2022-05-31T12:49:47.859405Z",
     "shell.execute_reply": "2022-05-31T12:49:47.858435Z",
     "shell.execute_reply.started": "2022-05-31T12:49:47.854059Z"
    }
   },
   "outputs": [
    {
     "data": {
      "image/png": "[encoded data removed]",
      "text/plain": [
       "<Figure size 2160x2160 with 2 Axes>"
      ]
     },
     "metadata": {
      "needs_background": "light"
     },
     "output_type": "display_data"
    }
   ],
   "source": [
    "# Configuring the matplotlib figure size and title\n",
    "fig, ax = plt.subplots(figsize=(30,30))\n",
    "ax.set_title('Correlation between variables in dataset')\n",
    "\n",
    "# Excluding the categorical columns from dataframe\n",
    "filtered_data = raw_data.copy()\n",
    "heatmap = sns.heatmap(filtered_data.corr(), vmin=-1, vmax=1, annot=True, ax=ax, cmap=\"icefire\")\n",
    "\n",
    "# Saving the image to a file\n",
    "#plt.savefig('correlation_matrix.png', bbox_inches=\"tight\")"
   ]
  },
  {
   "cell_type": "code",
   "execution_count": 8,
   "metadata": {
    "execution": {
     "iopub.execute_input": "2022-05-31T12:52:56.043335Z",
     "iopub.status.busy": "2022-05-31T12:52:56.042645Z",
     "iopub.status.idle": "2022-05-31T12:52:56.087394Z",
     "shell.execute_reply": "2022-05-31T12:52:56.086636Z",
     "shell.execute_reply.started": "2022-05-31T12:52:56.043299Z"
    }
   },
   "outputs": [
    {
     "data": {
      "text/html": [
       "<div>\n",
       "<style scoped>\n",
       "    .dataframe tbody tr th:only-of-type {\n",
       "        vertical-align: middle;\n",
       "    }\n",
       "\n",
       "    .dataframe tbody tr th {\n",
       "        vertical-align: top;\n",
       "    }\n",
       "\n",
       "    .dataframe thead th {\n",
       "        text-align: right;\n",
       "    }\n",
       "</style>\n",
       "<table border=\"1\" class=\"dataframe\">\n",
       "  <thead>\n",
       "    <tr style=\"text-align: right;\">\n",
       "      <th></th>\n",
       "      <th>ip_address</th>\n",
       "      <th>email_address</th>\n",
       "      <th>billing_postal</th>\n",
       "      <th>billing_address</th>\n",
       "      <th>EVENT_LABEL</th>\n",
       "    </tr>\n",
       "  </thead>\n",
       "  <tbody>\n",
       "    <tr>\n",
       "      <th>0</th>\n",
       "      <td>112</td>\n",
       "      <td>0</td>\n",
       "      <td>34491</td>\n",
       "      <td>12351</td>\n",
       "      <td>1</td>\n",
       "    </tr>\n",
       "    <tr>\n",
       "      <th>1</th>\n",
       "      <td>192</td>\n",
       "      <td>0</td>\n",
       "      <td>34555</td>\n",
       "      <td>691</td>\n",
       "      <td>1</td>\n",
       "    </tr>\n",
       "    <tr>\n",
       "      <th>2</th>\n",
       "      <td>185</td>\n",
       "      <td>0</td>\n",
       "      <td>33611</td>\n",
       "      <td>28583</td>\n",
       "      <td>1</td>\n",
       "    </tr>\n",
       "    <tr>\n",
       "      <th>3</th>\n",
       "      <td>68</td>\n",
       "      <td>0</td>\n",
       "      <td>33520</td>\n",
       "      <td>019</td>\n",
       "      <td>1</td>\n",
       "    </tr>\n",
       "    <tr>\n",
       "      <th>4</th>\n",
       "      <td>117</td>\n",
       "      <td>2</td>\n",
       "      <td>33889</td>\n",
       "      <td>1023</td>\n",
       "      <td>1</td>\n",
       "    </tr>\n",
       "  </tbody>\n",
       "</table>\n",
       "</div>"
      ],
      "text/plain": [
       "  ip_address email_address  billing_postal billing_address  EVENT_LABEL\n",
       "0        112             0           34491           12351            1\n",
       "1        192             0           34555             691            1\n",
       "2        185             0           33611           28583            1\n",
       "3         68             0           33520             019            1\n",
       "4        117             2           33889            1023            1"
      ]
     },
     "execution_count": 8,
     "metadata": {},
     "output_type": "execute_result"
    }
   ],
   "source": [
    "raw_data.head()"
   ]
  },
  {
   "cell_type": "code",
   "execution_count": 9,
   "metadata": {
    "execution": {
     "iopub.execute_input": "2022-05-31T12:52:59.189865Z",
     "iopub.status.busy": "2022-05-31T12:52:59.189159Z",
     "iopub.status.idle": "2022-05-31T12:52:59.199478Z",
     "shell.execute_reply": "2022-05-31T12:52:59.198414Z",
     "shell.execute_reply.started": "2022-05-31T12:52:59.189825Z"
    }
   },
   "outputs": [
    {
     "data": {
      "text/plain": [
       "<AxesSubplot:>"
      ]
     },
     "execution_count": 9,
     "metadata": {},
     "output_type": "execute_result"
    },
    {
     "data": {
      "image/png": "[encoded data removed]",
      "text/plain": [
       "<Figure size 432x288 with 2 Axes>"
      ]
     },
     "metadata": {
      "needs_background": "light"
     },
     "output_type": "display_data"
    }
   ],
   "source": [
    "import seaborn as sn\n",
    "m=raw_data.corr()\n",
    "sn.heatmap(m, annot=True)"
   ]
  },
  {
   "cell_type": "code",
   "execution_count": 11,
   "metadata": {},
   "outputs": [
    {
     "data": {
      "image/png": "[encoded data removed]",
      "text/plain": [
       "<Figure size 452.55x360 with 6 Axes>"
      ]
     },
     "metadata": {},
     "output_type": "display_data"
    }
   ],
   "source": [
    "sn.set_theme(style=\"dark\")\n",
    "g=sn.pairplot(raw_data, hue=\"EVENT_LABEL\")\n",
    "g.savefig(\"scatterplot_matrix.png\")"
   ]
  },
  {
   "cell_type": "code",
   "execution_count": null,
   "metadata": {},
   "outputs": [],
   "source": []
  }
 ],
 "metadata": {
  "kernelspec": {
   "display_name": "Python 3 (ipykernel)",
   "language": "python",
   "name": "python3"
  },
  "language_info": {
   "codemirror_mode": {
    "name": "ipython",
    "version": 3
   },
   "file_extension": ".py",
   "mimetype": "text/x-python",
   "name": "python",
   "nbconvert_exporter": "python",
   "pygments_lexer": "ipython3",
   "version": "3.10.0"
  }
 },
 "nbformat": 4,
 "nbformat_minor": 4
}
