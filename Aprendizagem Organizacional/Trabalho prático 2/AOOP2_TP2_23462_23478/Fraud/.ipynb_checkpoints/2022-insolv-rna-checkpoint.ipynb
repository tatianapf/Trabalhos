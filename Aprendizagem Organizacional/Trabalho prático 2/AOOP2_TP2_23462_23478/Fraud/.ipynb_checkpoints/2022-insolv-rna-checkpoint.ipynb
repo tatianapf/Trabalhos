{
 "cells": [
  {
   "cell_type": "code",
   "execution_count": null,
   "metadata": {
    "execution": {
     "iopub.execute_input": "2022-05-30T21:49:37.543270Z",
     "iopub.status.busy": "2022-05-30T21:49:37.542384Z",
     "iopub.status.idle": "2022-05-30T21:49:37.621743Z",
     "shell.execute_reply": "2022-05-30T21:49:37.620837Z",
     "shell.execute_reply.started": "2022-05-30T21:49:37.543230Z"
    }
   },
   "outputs": [],
   "source": [
    "# -*- coding: utf-8 -*-\n",
    " \n",
    "\n",
    "#Imports\n",
    "import numpy as np\n",
    "import matplotlib.pyplot as plt\n",
    "import pandas as pd\n",
    "from sklearn.model_selection import train_test_split\n",
    "from sklearn.preprocessing import StandardScaler\n",
    "\n",
    "#Importar o Dataset\n",
    "df = pd.read_csv('../Fraud/dataset/registration_data_20K_full.csv',sep=',',header=0)\n",
    "i = 0\n",
    "for d in df['ip_address']:\n",
    "    d = (d.split(\".\",1))\n",
    "    #print(d[0])\n",
    "    df.loc[i, 'ip_address'] = d[0]\n",
    "    i = i+1\n",
    "j=0\n",
    "for d in df['email_address']:\n",
    "    d = (d.split(\"@\",1))\n",
    "    #print(d[1])\n",
    "    if(d[1] == \"example.net\"):\n",
    "        df.loc[j, 'email_address'] = 0\n",
    "    elif(d[1] == \"example.org\"):\n",
    "        df.loc[j, 'email_address'] = 1\n",
    "    elif(d[1] == \"example.com\"):\n",
    "        df.loc[j, 'email_address'] = 2\n",
    "    j = j + 1\n",
    "z=0\n",
    "for d in df['billing_address']:\n",
    "    d = (d.split(\" \",1))\n",
    "    #print(d[0])\n",
    "    df.loc[z, 'billing_address'] = d[0]\n",
    "    z = z + 1\n",
    "df = df.drop('billing_state', axis=1)\n",
    "df = df.drop('user_agent', axis=1)\n",
    "df = df.drop('phone_number', axis=1)\n",
    "df = df.drop('EVENT_TIMESTAMP', axis=1)\n",
    "df[\"EVENT_LABEL\"]= df[\"EVENT_LABEL\"].map({\"legit\": 1,\"fraud\": 0})\n",
    "dataset = df.copy()\n",
    "X = dataset.drop('Insolvencia', axis=1)   #Colunas usadas para calcular a Insolvencia. Contêm as features\n",
    "y= dataset.Insolvencia                    #Parametro a ser calculado\n",
    "X.head\n",
    "\n"
   ]
  },
  {
   "cell_type": "code",
   "execution_count": null,
   "metadata": {
    "execution": {
     "iopub.execute_input": "2022-05-30T21:51:17.316903Z",
     "iopub.status.busy": "2022-05-30T21:51:17.316448Z",
     "iopub.status.idle": "2022-05-30T21:52:05.629120Z",
     "shell.execute_reply": "2022-05-30T21:52:05.628253Z",
     "shell.execute_reply.started": "2022-05-30T21:51:17.316869Z"
    }
   },
   "outputs": [],
   "source": [
    "#Dividir em conjunto de treino e conjunto de teste\n",
    "X_train, X_test, y_train, y_test = train_test_split(X, y, test_size=0.30, random_state=18)\n",
    "\n",
    "#---------------------Cirar a Rede Neuronal Artificial--------------------------\n",
    "import keras\n",
    "from keras.models import Sequential\n",
    "from keras.layers import Dense\n",
    "from numpy import loadtxt\n",
    "\n",
    "model = Sequential()\n",
    "\n",
    "#Adicionar a Input Layer e a primeira hidden layers\n",
    "model.add(Dense(12, input_dim=32, activation='relu'))\n",
    "model.add(Dense(32, activation='relu'))\n",
    "model.add(Dense(1, activation='sigmoid'))\n",
    "\n",
    "#Compiling the ANN\n",
    "model.compile(loss='binary_crossentropy', optimizer='adam', metrics=['accuracy'])\n",
    "\n",
    "#classifier.fit(X_train, y_train, batch_size = 10, epochs= 100)\n",
    "model.fit(X_train, y_train, epochs=150, batch_size=10)\n",
    "\n",
    "accuracy = model.evaluate(X, y, verbose=0)\n",
    "print(accuracy)\n",
    "\n"
   ]
  },
  {
   "cell_type": "code",
   "execution_count": null,
   "metadata": {
    "execution": {
     "iopub.execute_input": "2022-05-30T21:55:57.341658Z",
     "iopub.status.busy": "2022-05-30T21:55:57.341193Z"
    }
   },
   "outputs": [],
   "source": [
    "#Grafico da rede neuronal\n",
    "!pip3 install ann_visualizer\n",
    "!pip install graphviz"
   ]
  },
  {
   "cell_type": "code",
   "execution_count": null,
   "metadata": {
    "execution": {
     "iopub.execute_input": "2022-05-30T21:52:11.860752Z",
     "iopub.status.busy": "2022-05-30T21:52:11.859624Z",
     "iopub.status.idle": "2022-05-30T21:55:14.341386Z",
     "shell.execute_reply": "2022-05-30T21:55:14.339580Z",
     "shell.execute_reply.started": "2022-05-30T21:52:11.860710Z"
    }
   },
   "outputs": [],
   "source": [
    "\n",
    "from ann_visualizer.visualize import ann_viz;\n",
    "ann_viz(model, title=\"Visualização da Rede Neuronal Insolvência\")"
   ]
  },
  {
   "cell_type": "code",
   "execution_count": null,
   "metadata": {},
   "outputs": [],
   "source": [
    "#Carregar novo dado\n",
    "dataset = pd.read_csv('../input/insolvencias-pontos/Insol_3_novocaso.csv',sep=';',header=0)\n",
    "X_new = dataset.drop('Insolvencia', axis=1)   #Colunas usadas para calcular a Insolvencia. Contêm as features\n",
    "\n",
    "\n",
    "#Fazer a previsão de y - Insolvência\n",
    "predictions = model.predict_classes(X_new)\n",
    "\n",
    "if predictions[0][0] == 0:\n",
    "  print(\"Probabilidade de NÃO Insolvência, Probabilidade=%s\" % (predictions[0][0]))\n",
    "else:\n",
    "  print(\"Probabilidade de Insolvência, Probabilidade=%s\" % (predictions[0][0]))\n",
    "\n",
    "#Grafico da rede neuronal\n",
    "!pip3 install ann_visualizer\n",
    "!pip install graphviz\n",
    "\n",
    "from ann_visualizer.visualize import ann_viz;\n",
    "ann_viz(model, title=\"Visualização da Rede Neuronal Insolvência\")"
   ]
  }
 ],
 "metadata": {
  "kernelspec": {
   "display_name": "Python 3 (ipykernel)",
   "language": "python",
   "name": "python3"
  },
  "language_info": {
   "codemirror_mode": {
    "name": "ipython",
    "version": 3
   },
   "file_extension": ".py",
   "mimetype": "text/x-python",
   "name": "python",
   "nbconvert_exporter": "python",
   "pygments_lexer": "ipython3",
   "version": "3.10.0"
  }
 },
 "nbformat": 4,
 "nbformat_minor": 4
}
