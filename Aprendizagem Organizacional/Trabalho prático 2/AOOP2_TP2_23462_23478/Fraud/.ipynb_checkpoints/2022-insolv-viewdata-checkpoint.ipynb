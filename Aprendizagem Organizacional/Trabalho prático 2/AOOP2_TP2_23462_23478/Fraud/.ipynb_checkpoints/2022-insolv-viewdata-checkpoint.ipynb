{
 "cells": [
  {
   "cell_type": "code",
   "execution_count": 1,
   "metadata": {
    "execution": {
     "iopub.execute_input": "2022-05-30T21:45:22.463100Z",
     "iopub.status.busy": "2022-05-30T21:45:22.462544Z",
     "iopub.status.idle": "2022-05-30T21:45:23.664319Z",
     "shell.execute_reply": "2022-05-30T21:45:23.663246Z",
     "shell.execute_reply.started": "2022-05-30T21:45:22.463012Z"
    }
   },
   "outputs": [],
   "source": [
    "import numpy as np\n",
    "import pandas as pd\n",
    "import seaborn as sns\n",
    "import matplotlib.pyplot as plt\n",
    "import scipy.stats as st\n",
    "\n",
    "# Configuring matplotlib to display and save images with a white background\n",
    "plt.rcParams['figure.facecolor'] = 'white'\n",
    "\n",
    "# Reading the data from the csv file\n",
    "raw_data = pd.read_csv('../input/insolv1/Insol.csv', decimal=\",\", sep=\";\")\n",
    "np.set_printoptions(suppress=True)\n",
    "\n",
    "# Defining some regular bins\n",
    "# Bin for variation coefiecient\n",
    "bins_var = [-1, -0.8, -0.6, -0.4, -0.2, 0, 0.2, 0.4, 0.6, 0.8, 1]\n",
    "\n",
    "# Bin for values between 0 and 1\n",
    "bins_from_zero = [0, 0.2, 0.4, 0.6, 0.8, 1]"
   ]
  },
  {
   "cell_type": "code",
   "execution_count": 2,
   "metadata": {
    "execution": {
     "iopub.execute_input": "2022-05-30T21:45:23.666458Z",
     "iopub.status.busy": "2022-05-30T21:45:23.666105Z",
     "iopub.status.idle": "2022-05-30T21:45:23.896116Z",
     "shell.execute_reply": "2022-05-30T21:45:23.895069Z",
     "shell.execute_reply.started": "2022-05-30T21:45:23.666427Z"
    }
   },
   "outputs": [],
   "source": [
    "curColumn = raw_data['Distrito']\n",
    "\n",
    "fPorDistrito = curColumn[raw_data['Insolvencia'] == 1]\n",
    "empresasFalidasPorDistrito = pd.DataFrame(fPorDistrito.value_counts().sort_index())\n",
    "empresasFalidasPorDistrito.columns = ['Nº de empresas falidas']\n",
    "\n",
    "colSummary = curColumn.describe()\n",
    "colSummary.loc['mode'] = curColumn.mode().tolist()[0]\n",
    "dfSummary = pd.DataFrame(colSummary)\n",
    "dfSummary.columns = ['Valor']\n",
    "display(dfSummary)\n",
    "\n",
    "totalPerAtrr = pd.DataFrame(curColumn.value_counts().sort_index())\n",
    "totalPerAtrr.columns = ['Nº de empresas']\n",
    "display(totalPerAtrr)\n",
    "display(empresasFalidasPorDistrito)\n",
    "\n",
    "curColumn.value_counts().sort_index().plot.pie(\n",
    "    autopct='%1.1f%%',\n",
    "    startangle=90,\n",
    "    radius=2,\n",
    "    pctdistance=1.1,\n",
    "    labeldistance=0.5\n",
    ")\n",
    "\n"
   ]
  },
  {
   "cell_type": "code",
   "execution_count": null,
   "metadata": {
    "execution": {
     "iopub.execute_input": "2022-05-30T14:50:31.328303Z",
     "iopub.status.busy": "2022-05-30T14:50:31.327616Z",
     "iopub.status.idle": "2022-05-30T14:50:31.469057Z",
     "shell.execute_reply": "2022-05-30T14:50:31.467736Z",
     "shell.execute_reply.started": "2022-05-30T14:50:31.328268Z"
    }
   },
   "outputs": [],
   "source": [
    "curColumn = raw_data['NACE1']\n",
    "\n",
    "colSummary = curColumn.describe()\n",
    "colSummary.loc['mode'] = curColumn.mode().tolist()[0]\n",
    "dfSummary = pd.DataFrame(colSummary)\n",
    "dfSummary.columns = ['Valor']\n",
    "display(dfSummary)\n",
    "\n",
    "fPorNace = curColumn[raw_data['Insolvencia'] == 1]\n",
    "naceInsolvidos = pd.DataFrame(fPorNace.value_counts().sort_index())\n",
    "naceInsolvidos.columns = ['Nº de Empresas']\n",
    "display(naceInsolvidos)\n",
    "\n",
    "\n",
    "totalPerAtrr = pd.DataFrame(curColumn.value_counts().sort_index())\n",
    "totalPerAtrr.columns = ['Nº de Empresas']\n",
    "display(totalPerAtrr)\n",
    "curColumn.value_counts().sort_index().plot.pie(\n",
    "    autopct='%1.1f%%',\n",
    "    startangle=90,\n",
    "    radius=2,\n",
    "    pctdistance=1.1,\n",
    "    labeldistance=0.5\n",
    ")\n",
    "\n"
   ]
  },
  {
   "cell_type": "code",
   "execution_count": null,
   "metadata": {
    "execution": {
     "iopub.execute_input": "2022-05-30T14:51:10.081309Z",
     "iopub.status.busy": "2022-05-30T14:51:10.080855Z",
     "iopub.status.idle": "2022-05-30T14:51:10.262569Z",
     "shell.execute_reply": "2022-05-30T14:51:10.261547Z",
     "shell.execute_reply.started": "2022-05-30T14:51:10.081277Z"
    }
   },
   "outputs": [],
   "source": [
    "curColumn = raw_data['NACE2']\n",
    "var_nace2 = curColumn.unique()\n",
    "var_nace2.sort()\n",
    "\n",
    "colSummary = curColumn.describe()\n",
    "colSummary.loc['mode'] = curColumn.mode().tolist()[0]\n",
    "dfSummary = pd.DataFrame(colSummary)\n",
    "dfSummary.columns = ['Valor']\n",
    "display(dfSummary)\n",
    "\n",
    "totalPerAtrr = pd.DataFrame(curColumn.value_counts().sort_index())\n",
    "totalPerAtrr.columns = ['Nº de empresas']\n",
    "display(totalPerAtrr)\n",
    "\n",
    "curColumn.value_counts().sort_index().plot.pie(\n",
    "    autopct='%1.1f%%',\n",
    "    startangle=90,\n",
    "    radius=2,\n",
    "    pctdistance=1.1,\n",
    "    labeldistance=0.5\n",
    ")"
   ]
  },
  {
   "cell_type": "code",
   "execution_count": null,
   "metadata": {
    "execution": {
     "iopub.execute_input": "2022-05-30T14:51:42.3615Z",
     "iopub.status.busy": "2022-05-30T14:51:42.36104Z",
     "iopub.status.idle": "2022-05-30T14:51:42.59477Z",
     "shell.execute_reply": "2022-05-30T14:51:42.593519Z",
     "shell.execute_reply.started": "2022-05-30T14:51:42.361467Z"
    }
   },
   "outputs": [],
   "source": [
    "curColumn = raw_data['Numero_Empregados']\n",
    "var_empregados = curColumn.unique()\n",
    "var_empregados.sort()\n",
    "\n",
    "colSummary = curColumn.describe()\n",
    "colSummary.loc['mode'] = curColumn.mode().tolist()[0]\n",
    "dfSummary = pd.DataFrame(colSummary)\n",
    "dfSummary.columns = ['Valor']\n",
    "\n",
    "bins = [1, 100, 200, 300, 400, 500, 600, 1200, 1400]\n",
    "curColumn = pd.cut(curColumn, bins)\n",
    "\n",
    "dfIntervals = pd.DataFrame(curColumn.value_counts().sort_index())\n",
    "dfIntervals.columns = ['Número de Empresas dentro do intervalo']\n",
    "\n",
    "display(dfSummary)\n",
    "display(dfIntervals)\n",
    "curColumn.value_counts().sort_index().plot.bar()\n"
   ]
  },
  {
   "cell_type": "code",
   "execution_count": null,
   "metadata": {
    "execution": {
     "iopub.execute_input": "2022-05-30T14:53:00.768622Z",
     "iopub.status.busy": "2022-05-30T14:53:00.767555Z",
     "iopub.status.idle": "2022-05-30T14:53:00.96168Z",
     "shell.execute_reply": "2022-05-30T14:53:00.960412Z",
     "shell.execute_reply.started": "2022-05-30T14:53:00.768576Z"
    }
   },
   "outputs": [],
   "source": [
    "curColumn = raw_data['Num_anos_disponiveis_base']\n",
    "var_num_anos_disponiveis_base = curColumn.unique()\n",
    "\n",
    "colSummary = curColumn.describe()\n",
    "colSummary.loc['mode'] = curColumn.mode().tolist()[0]\n",
    "dfSummary = pd.DataFrame(colSummary)\n",
    "dfSummary.columns = ['Valor']\n",
    "\n",
    "dfIntervals = pd.DataFrame(curColumn.value_counts().sort_index())\n",
    "dfIntervals.columns = ['Número de registos (anos disponíveis base)']\n",
    "\n",
    "display(dfSummary)\n",
    "display(dfIntervals)\n",
    "\n",
    "curColumn.value_counts().sort_index().plot.pie(\n",
    "    autopct='%1.1f%%',\n",
    "    startangle=90,\n",
    "    radius=2,\n",
    "    pctdistance=1.1,\n",
    "    labeldistance=0.5\n",
    ")"
   ]
  },
  {
   "cell_type": "code",
   "execution_count": null,
   "metadata": {
    "execution": {
     "iopub.execute_input": "2022-05-30T14:53:42.812487Z",
     "iopub.status.busy": "2022-05-30T14:53:42.812045Z",
     "iopub.status.idle": "2022-05-30T14:53:43.065354Z",
     "shell.execute_reply": "2022-05-30T14:53:43.064372Z",
     "shell.execute_reply.started": "2022-05-30T14:53:42.812455Z"
    }
   },
   "outputs": [],
   "source": [
    "curColumn = raw_data['Variacao_das_vendas']\n",
    "var_variacao_vendas = curColumn.unique()\n",
    "var_variacao_vendas.sort()\n",
    "\n",
    "colSummary = curColumn.describe()\n",
    "colSummary.loc['mode'] = curColumn.mode().tolist()[0]\n",
    "colSummary.loc['confidence-interval'] = st.norm.interval(alpha=0.95, loc=np.mean(curColumn), scale=st.sem(curColumn))\n",
    "dfSummary = pd.DataFrame(colSummary)\n",
    "dfSummary.columns = ['Valor']\n",
    "\n",
    "curColumn = pd.cut(curColumn, bins_var)\n",
    "dfIntervals = pd.DataFrame(curColumn.value_counts().sort_index())\n",
    "dfIntervals.columns = ['Nº empresas com variação de vendas dentro do intervalo']\n",
    "\n",
    "display(dfSummary)\n",
    "display(dfIntervals)\n",
    "curColumn.value_counts().sort_index().plot.bar()\n"
   ]
  },
  {
   "cell_type": "code",
   "execution_count": null,
   "metadata": {
    "execution": {
     "iopub.execute_input": "2022-05-30T14:54:41.48155Z",
     "iopub.status.busy": "2022-05-30T14:54:41.481083Z",
     "iopub.status.idle": "2022-05-30T14:54:41.685572Z",
     "shell.execute_reply": "2022-05-30T14:54:41.684092Z",
     "shell.execute_reply.started": "2022-05-30T14:54:41.481514Z"
    }
   },
   "outputs": [],
   "source": [
    "curColumn = raw_data['Variacao_resultado_operacional']\n",
    "var_variacao_resultado_op = curColumn.unique()\n",
    "var_variacao_resultado_op.sort()\n",
    "\n",
    "colSummary = curColumn.describe()\n",
    "colSummary.loc['mode'] = curColumn.mode().tolist()[0]\n",
    "colSummary.loc['confidence-interval'] = st.norm.interval(alpha=0.95, loc=np.mean(curColumn), scale=st.sem(curColumn))\n",
    "dfSummary = pd.DataFrame(colSummary)\n",
    "dfSummary.columns = ['Valor']\n",
    "\n",
    "curColumn = pd.cut(curColumn, bins_var)\n",
    "dfIntervals = pd.DataFrame(curColumn.value_counts().sort_index())\n",
    "dfIntervals.columns = ['Nº empresas com variação de resultado operacional dentro do intervalo']\n",
    "display(dfSummary)\n",
    "display(dfIntervals)\n",
    "curColumn.value_counts().sort_index().plot.bar()"
   ]
  },
  {
   "cell_type": "code",
   "execution_count": null,
   "metadata": {
    "execution": {
     "iopub.execute_input": "2022-05-30T14:55:27.88635Z",
     "iopub.status.busy": "2022-05-30T14:55:27.885704Z",
     "iopub.status.idle": "2022-05-30T14:55:28.120413Z",
     "shell.execute_reply": "2022-05-30T14:55:28.119304Z",
     "shell.execute_reply.started": "2022-05-30T14:55:27.886314Z"
    }
   },
   "outputs": [],
   "source": [
    "curColumn = raw_data['Variacao_do_activo']\n",
    "var_variacao_ativo = curColumn.unique()\n",
    "var_variacao_ativo.sort()\n",
    "\n",
    "colSummary = curColumn.describe()\n",
    "colSummary.loc['mode'] = curColumn.mode().tolist()[0]\n",
    "dfSummary = pd.DataFrame(colSummary)\n",
    "dfSummary.columns = ['Valor']\n",
    "\n",
    "curColumn = pd.cut(curColumn, bins_var)\n",
    "dfIntervals = pd.DataFrame(curColumn.value_counts().sort_index())\n",
    "dfIntervals.columns = ['Nº empresas com variação de ativo dentro do intervalo']\n",
    "display(dfSummary)\n",
    "display(dfIntervals)\n",
    "curColumn.value_counts().sort_index().plot.bar()"
   ]
  },
  {
   "cell_type": "code",
   "execution_count": null,
   "metadata": {
    "execution": {
     "iopub.execute_input": "2022-05-30T14:56:27.35761Z",
     "iopub.status.busy": "2022-05-30T14:56:27.356632Z",
     "iopub.status.idle": "2022-05-30T14:56:27.605964Z",
     "shell.execute_reply": "2022-05-30T14:56:27.604765Z",
     "shell.execute_reply.started": "2022-05-30T14:56:27.357553Z"
    }
   },
   "outputs": [],
   "source": [
    "curColumn = raw_data['Variacao_dos_capitais_proprios']\n",
    "var_variacao_dos_capitais_proprios = curColumn.unique()\n",
    "var_variacao_dos_capitais_proprios.sort()\n",
    "\n",
    "colSummary = curColumn.describe()\n",
    "colSummary.loc['mode'] = curColumn.mode().tolist()[0]\n",
    "colSummary.loc['confidence-interval'] = st.norm.interval(alpha=0.95, loc=np.mean(curColumn), scale=st.sem(curColumn))\n",
    "dfSummary = pd.DataFrame(colSummary)\n",
    "dfSummary.columns = ['Valor']\n",
    "\n",
    "curColumn = pd.cut(curColumn, bins_var)\n",
    "dfIntervals = pd.DataFrame(curColumn.value_counts().sort_index())\n",
    "dfIntervals.columns = ['Nº empresas com variação dos capitais proprios dentro do intervalo']\n",
    "display(dfSummary)\n",
    "display(dfIntervals)\n",
    "\n",
    "curColumn.value_counts().sort_index().plot.bar()"
   ]
  },
  {
   "cell_type": "code",
   "execution_count": null,
   "metadata": {
    "execution": {
     "iopub.execute_input": "2022-05-30T14:56:31.076764Z",
     "iopub.status.busy": "2022-05-30T14:56:31.076299Z",
     "iopub.status.idle": "2022-05-30T14:56:31.318994Z",
     "shell.execute_reply": "2022-05-30T14:56:31.317964Z",
     "shell.execute_reply.started": "2022-05-30T14:56:31.076728Z"
    }
   },
   "outputs": [],
   "source": [
    "curColumn = raw_data['Variacao_do_ativo_circulante']\n",
    "var_variacao_do_ativo_circulante = curColumn.unique()\n",
    "var_variacao_do_ativo_circulante.sort()\n",
    "\n",
    "colSummary = curColumn.describe()\n",
    "colSummary.loc['mode'] = curColumn.mode().tolist()[0]\n",
    "colSummary.loc['confidence-interval'] = st.norm.interval(alpha=0.95, loc=np.mean(curColumn), scale=st.sem(curColumn))\n",
    "dfSummary = pd.DataFrame(colSummary)\n",
    "dfSummary.columns = ['Valor']\n",
    "\n",
    "curColumn = pd.cut(curColumn, bins_var)\n",
    "dfIntervals = pd.DataFrame(curColumn.value_counts().sort_index())\n",
    "dfIntervals.columns = ['Nº empresas com variação de ativo circulante dentro do intervalo']\n",
    "display(dfSummary)\n",
    "display(dfIntervals)\n",
    "curColumn.value_counts().sort_index().plot.bar()"
   ]
  },
  {
   "cell_type": "code",
   "execution_count": null,
   "metadata": {},
   "outputs": [],
   "source": [
    "curColumn = raw_data['Variacao_das_existencias']\n",
    "var_variacao_das_existencias = curColumn.unique()\n",
    "var_variacao_das_existencias.sort()\n",
    "\n",
    "colSummary = curColumn.describe()\n",
    "colSummary.loc['mode'] = curColumn.mode().tolist()[0]\n",
    "colSummary.loc['confidence-interval'] = st.norm.interval(alpha=0.95, loc=np.mean(curColumn), scale=st.sem(curColumn))\n",
    "dfSummary = pd.DataFrame(colSummary)\n",
    "dfSummary.columns = ['Valor']\n",
    "\n",
    "curColumn = pd.cut(curColumn, bins_var)\n",
    "dfIntervals = pd.DataFrame(curColumn.value_counts().sort_index())\n",
    "dfIntervals.columns = ['Nº empresas com variação das existencias dentro do intervalo']\n",
    "display(dfSummary)\n",
    "display(dfIntervals)\n",
    "curColumn.value_counts().sort_index().plot.bar()"
   ]
  },
  {
   "cell_type": "code",
   "execution_count": null,
   "metadata": {},
   "outputs": [],
   "source": [
    "curColumn = raw_data['Variacao_do_imobilizado']\n",
    "var_variacao_do_imobilizado = curColumn.unique()\n",
    "var_variacao_do_imobilizado.sort()\n",
    "\n",
    "colSummary = curColumn.describe()\n",
    "colSummary.loc['mode'] = curColumn.mode().tolist()[0]\n",
    "colSummary.loc['confidence-interval'] = st.norm.interval(alpha=0.95, loc=np.mean(curColumn), scale=st.sem(curColumn))\n",
    "dfSummary = pd.DataFrame(colSummary)\n",
    "dfSummary.columns = ['Valor']\n",
    "\n",
    "curColumn = pd.cut(curColumn, bins_var)\n",
    "dfIntervals = pd.DataFrame(curColumn.value_counts().sort_index())\n",
    "dfIntervals.columns = ['Nº empresas com variação do imobilizado dentro do intervalo']\n",
    "display(dfSummary)\n",
    "display(dfIntervals)\n",
    "curColumn.value_counts().sort_index().plot.bar()"
   ]
  },
  {
   "cell_type": "code",
   "execution_count": null,
   "metadata": {
    "execution": {
     "iopub.execute_input": "2022-05-30T14:56:34.464049Z",
     "iopub.status.busy": "2022-05-30T14:56:34.463513Z",
     "iopub.status.idle": "2022-05-30T14:56:34.73628Z",
     "shell.execute_reply": "2022-05-30T14:56:34.735093Z",
     "shell.execute_reply.started": "2022-05-30T14:56:34.46401Z"
    }
   },
   "outputs": [],
   "source": [
    "curColumn = raw_data['Fundo_de_maneio']\n",
    "var_fundo_de_maneio = curColumn.unique()\n",
    "var_fundo_de_maneio.sort()\n",
    "\n",
    "bins = np.linspace(curColumn.min()-1, curColumn.max()+1, 10)\n",
    "\n",
    "colSummary = curColumn.describe()\n",
    "colSummary.loc['mode'] = curColumn.mode().tolist()[0]\n",
    "dfSummary = pd.DataFrame(colSummary).apply(lambda s: s.apply('{0:.5f}'.format))\n",
    "dfSummary.columns = ['Valor']\n",
    "\n",
    "curColumn = pd.cut(curColumn, bins)\n",
    "dfIntervals = pd.DataFrame(curColumn.value_counts().sort_index())\n",
    "dfIntervals.columns = ['Nº empresas com fundo de maneio dentro do intervalo']\n",
    "display(dfSummary)\n",
    "display(dfIntervals)\n",
    "curColumn.value_counts().sort_index().plot.bar()"
   ]
  },
  {
   "cell_type": "code",
   "execution_count": null,
   "metadata": {},
   "outputs": [],
   "source": [
    "curColumn = raw_data['REPV']\n",
    "var_repv = curColumn.unique()\n",
    "var_repv.sort()\n",
    "\n",
    "bins = np.linspace(curColumn.min()-1, curColumn.max()+1, 5)\n",
    "colSummary = curColumn.describe()\n",
    "colSummary.loc['mode'] = curColumn.mode().tolist()[0]\n",
    "dfSummary = pd.DataFrame(colSummary).apply(lambda s: s.apply('{0:.5f}'.format))\n",
    "dfSummary.columns = ['Valor']\n",
    "\n",
    "curColumn = pd.cut(curColumn, bins)\n",
    "dfIntervals = pd.DataFrame(curColumn.value_counts().sort_index())\n",
    "dfIntervals.columns = ['Nº empresas com REPV dentro do intervalo']\n",
    "display(dfSummary)\n",
    "display(dfIntervals)"
   ]
  },
  {
   "cell_type": "code",
   "execution_count": null,
   "metadata": {},
   "outputs": [],
   "source": [
    "curColumn = raw_data['Prazo_medio_de_recebimento']\n",
    "var_prazo_medio_de_recebimento = curColumn.unique()\n",
    "var_prazo_medio_de_recebimento.sort()\n",
    "\n",
    "bins = np.linspace(curColumn.min()-1, curColumn.max()+1, 5)\n",
    "colSummary = curColumn.describe()\n",
    "colSummary.loc['mode'] = curColumn.mode().tolist()[0]\n",
    "dfSummary = pd.DataFrame(colSummary).apply(lambda s: s.apply('{0:.5f}'.format))\n",
    "dfSummary.columns = ['Valor']\n",
    "\n",
    "curColumn = pd.cut(curColumn, bins)\n",
    "dfIntervals = pd.DataFrame(curColumn.value_counts().sort_index())\n",
    "dfIntervals.columns = ['Nº empresas com prazo medio de recebimento dentro do intervalo']\n",
    "display(dfSummary)\n",
    "display(dfIntervals)"
   ]
  },
  {
   "cell_type": "code",
   "execution_count": null,
   "metadata": {},
   "outputs": [],
   "source": [
    "curColumn = raw_data['Liquidez_geral']\n",
    "var_liquidez_geral = curColumn.unique()\n",
    "var_liquidez_geral.sort()\n",
    "\n",
    "bins = np.linspace(curColumn.min()-1, curColumn.max()+1, 10)\n",
    "colSummary = curColumn.describe()\n",
    "colSummary.loc['mode'] = curColumn.mode().tolist()[0]\n",
    "dfSummary = pd.DataFrame(colSummary).apply(lambda s: s.apply('{0:.5f}'.format))\n",
    "dfSummary.columns = ['Valor']\n",
    "\n",
    "curColumn = pd.cut(curColumn, bins)\n",
    "dfIntervals = pd.DataFrame(curColumn.value_counts().sort_index())\n",
    "dfIntervals.columns = ['Nº empresas com liquidez geral dentro do intervalo']\n",
    "display(dfSummary)\n",
    "display(dfIntervals)"
   ]
  },
  {
   "cell_type": "code",
   "execution_count": null,
   "metadata": {},
   "outputs": [],
   "source": [
    "curColumn = raw_data['Liquidez_reduzida']\n",
    "var_liquidez_reduzida = curColumn.unique()\n",
    "var_liquidez_reduzida.sort()\n",
    "\n",
    "bins = np.linspace(curColumn.min()-1, curColumn.max()+1, 10)\n",
    "colSummary = curColumn.describe()\n",
    "colSummary.loc['mode'] = curColumn.mode().tolist()[0]\n",
    "dfSummary = pd.DataFrame(colSummary).apply(lambda s: s.apply('{0:.5f}'.format))\n",
    "dfSummary.columns = ['Valor']\n",
    "\n",
    "curColumn = pd.cut(curColumn, bins)\n",
    "dfIntervals = pd.DataFrame(curColumn.value_counts().sort_index())\n",
    "dfIntervals.columns = ['Nº empresas com liquidez reduzida dentro do intervalo']\n",
    "display(dfSummary)\n",
    "display(dfIntervals)"
   ]
  },
  {
   "cell_type": "code",
   "execution_count": null,
   "metadata": {},
   "outputs": [],
   "source": [
    "curColumn = raw_data['Solvabilidade']\n",
    "var_solvabilidade = curColumn.unique()\n",
    "var_solvabilidade.sort()\n",
    "\n",
    "bins = np.linspace(curColumn.min()-1, curColumn.max()+1, 10)\n",
    "colSummary = curColumn.describe()\n",
    "colSummary.loc['mode'] = curColumn.mode().tolist()[0]\n",
    "dfSummary = pd.DataFrame(colSummary).apply(lambda s: s.apply('{0:.5f}'.format))\n",
    "dfSummary.columns = ['Valor']\n",
    "\n",
    "curColumn = pd.cut(curColumn, bins)\n",
    "dfIntervals = pd.DataFrame(curColumn.value_counts().sort_index())\n",
    "dfIntervals.columns = ['Nº empresas com solvabilidade dentro do intervalo']\n",
    "display(dfSummary)\n",
    "display(dfIntervals)\n",
    "curColumn.value_counts().sort_index().plot.bar()"
   ]
  },
  {
   "cell_type": "code",
   "execution_count": null,
   "metadata": {},
   "outputs": [],
   "source": [
    "curColumn = raw_data['Autonomia_financeira']\n",
    "var_autonomia_financeira = curColumn.unique()\n",
    "var_autonomia_financeira.sort()\n",
    "\n",
    "bins = np.linspace(curColumn.min()-1, curColumn.max()+1, 10)\n",
    "colSummary = curColumn.describe()\n",
    "colSummary.loc['mode'] = curColumn.mode().tolist()[0]\n",
    "colSummary.loc['confidence-interval'] = st.norm.interval(alpha=0.95, loc=np.mean(curColumn), scale=st.sem(curColumn))\n",
    "dfSummary = pd.DataFrame(colSummary)\n",
    "dfSummary.columns = ['Valor']\n",
    "\n",
    "curColumn = pd.cut(curColumn, bins)\n",
    "dfIntervals = pd.DataFrame(curColumn.value_counts().sort_index())\n",
    "dfIntervals.columns = ['Nº empresas com autonomia financeira dentro do intervalo']\n",
    "display(dfSummary)\n",
    "display(dfIntervals)\n",
    "curColumn.value_counts().sort_index().plot.bar()"
   ]
  },
  {
   "cell_type": "code",
   "execution_count": null,
   "metadata": {},
   "outputs": [],
   "source": [
    "curColumn = raw_data['Endividamento']\n",
    "var_endividamento = curColumn.unique()\n",
    "var_endividamento.sort()\n",
    "\n",
    "bins = np.linspace(curColumn.min()-1, curColumn.max()+1, 10)\n",
    "colSummary = curColumn.describe()\n",
    "colSummary.loc['mode'] = curColumn.mode().tolist()[0]\n",
    "colSummary.loc['confidence-interval'] = st.norm.interval(alpha=0.95, loc=np.mean(curColumn), scale=st.sem(curColumn))\n",
    "dfSummary = pd.DataFrame(colSummary)\n",
    "dfSummary.columns = ['Valor']\n",
    "\n",
    "curColumn = pd.cut(curColumn, bins)\n",
    "dfIntervals = pd.DataFrame(curColumn.value_counts().sort_index())\n",
    "dfIntervals.columns = ['Nº empresas com endividamento dentro do intervalo']\n",
    "display(dfSummary)\n",
    "display(dfIntervals)\n",
    "curColumn.value_counts().sort_index().plot.bar()"
   ]
  },
  {
   "cell_type": "code",
   "execution_count": null,
   "metadata": {},
   "outputs": [],
   "source": [
    "curColumn = raw_data['Estrutura_financeira']\n",
    "var_estrutura_financeira = curColumn.unique()\n",
    "var_estrutura_financeira.sort()\n",
    "\n",
    "bins = np.linspace(curColumn.min()-1, curColumn.max()+1, 20)\n",
    "colSummary = curColumn.describe()\n",
    "colSummary.loc['mode'] = curColumn.mode().tolist()[0]\n",
    "dfSummary = pd.DataFrame(colSummary).apply(lambda s: s.apply('{0:.5f}'.format))\n",
    "dfSummary.columns = ['Valor']\n",
    "\n",
    "curColumn = pd.cut(curColumn, bins)\n",
    "dfIntervals = pd.DataFrame(curColumn.value_counts().sort_index())\n",
    "dfIntervals.columns = ['Nº empresas com estrutura financeira dentro do intervalo']\n",
    "display(dfSummary)\n",
    "display(dfIntervals)"
   ]
  },
  {
   "cell_type": "code",
   "execution_count": null,
   "metadata": {},
   "outputs": [],
   "source": [
    "curColumn = raw_data['Passivo_de_curto_prazo_a_dividir_passivo_total']\n",
    "var_passivo_de_curto_prazo_a_dividir_passivo_total = curColumn.unique()\n",
    "var_passivo_de_curto_prazo_a_dividir_passivo_total.sort()\n",
    "\n",
    "colSummary = curColumn.describe()\n",
    "colSummary.loc['mode'] = curColumn.mode().tolist()[0]\n",
    "dfSummary = pd.DataFrame(colSummary).apply(lambda s: s.apply('{0:.5f}'.format))\n",
    "dfSummary.columns = ['Valor']\n",
    "\n",
    "curColumn = pd.cut(curColumn, bins_from_zero)\n",
    "dfIntervals = pd.DataFrame(curColumn.value_counts().sort_index())\n",
    "dfIntervals.columns = ['Nº empresas com passivo de curto prazo (div passivo total) dentro do intervalo']\n",
    "display(dfSummary)\n",
    "display(dfIntervals)\n",
    "curColumn.value_counts().sort_index().plot.bar()"
   ]
  },
  {
   "cell_type": "code",
   "execution_count": null,
   "metadata": {},
   "outputs": [],
   "source": [
    "curColumn = raw_data['Custos_dos_encargos_financeiros_dividir_resultado_operacional']\n",
    "var_custos_dos_encargos_financeiros_dividir_resultado_operacional = curColumn.unique()\n",
    "var_custos_dos_encargos_financeiros_dividir_resultado_operacional.sort()\n",
    "\n",
    "bins = np.linspace(curColumn.min()-1, curColumn.max()+1, 10)\n",
    "colSummary = curColumn.describe()\n",
    "colSummary.loc['mode'] = curColumn.mode().tolist()[0]\n",
    "dfSummary = pd.DataFrame(colSummary).apply(lambda s: s.apply('{0:.5f}'.format))\n",
    "dfSummary.columns = ['Valor']\n",
    "\n",
    "curColumn = pd.cut(curColumn, bins)\n",
    "dfIntervals = pd.DataFrame(curColumn.value_counts().sort_index())\n",
    "dfIntervals.columns = ['Nº empresas com custos dos encargos (div res op) dentro do intervalo']\n",
    "display(dfSummary)\n",
    "display(dfIntervals)\n"
   ]
  },
  {
   "cell_type": "code",
   "execution_count": null,
   "metadata": {},
   "outputs": [],
   "source": [
    "curColumn = raw_data['Rendibilidade_operacional_vendas']\n",
    "var_rendibilidade_operacional_vendas = curColumn.unique()\n",
    "var_rendibilidade_operacional_vendas.sort()\n",
    "\n",
    "colSummary = curColumn.describe()\n",
    "colSummary.loc['mode'] = curColumn.mode().tolist()[0]\n",
    "dfSummary = pd.DataFrame(colSummary).apply(lambda s: s.apply('{0:.5f}'.format))\n",
    "dfSummary.columns = ['Valor']\n",
    "\n",
    "\n",
    "curColumn = pd.cut(curColumn, bins_var)\n",
    "dfIntervals = pd.DataFrame(curColumn.value_counts().sort_index())\n",
    "dfIntervals.columns = ['Nº empresas com rendibilidade operacional de vendas dentro do intervalo']\n",
    "display(dfSummary)\n",
    "display(dfIntervals)"
   ]
  },
  {
   "cell_type": "code",
   "execution_count": null,
   "metadata": {},
   "outputs": [],
   "source": [
    "curColumn = raw_data['Rendibilidade_liquida_das_vendas']\n",
    "var_rendibilidade_liquida_das_vendas = curColumn.unique()\n",
    "var_rendibilidade_liquida_das_vendas.sort()\n",
    "\n",
    "colSummary = curColumn.describe()\n",
    "colSummary.loc['mode'] = curColumn.mode().tolist()[0]\n",
    "dfSummary = pd.DataFrame(colSummary).apply(lambda s: s.apply('{0:.5f}'.format))\n",
    "dfSummary.columns = ['Valor']\n",
    "\n",
    "curColumn = pd.cut(curColumn, bins_var)\n",
    "dfIntervals = pd.DataFrame(curColumn.value_counts().sort_index())\n",
    "dfIntervals.columns = ['Nº empresas com rendibilidade liquida das vendas dentro do intervalo']\n",
    "display(dfSummary)\n",
    "display(dfIntervals)\n",
    "curColumn.value_counts().sort_index().plot.bar()"
   ]
  },
  {
   "cell_type": "code",
   "execution_count": null,
   "metadata": {},
   "outputs": [],
   "source": [
    "curColumn = raw_data['Rendibilidade_do_ativo']\n",
    "var_rendibilidade_do_ativo = curColumn.unique()\n",
    "var_rendibilidade_do_ativo.sort()\n",
    "\n",
    "colSummary = curColumn.describe()\n",
    "colSummary.loc['mode'] = curColumn.mode().tolist()[0]\n",
    "colSummary.loc['confidence-interval'] = st.norm.interval(alpha=0.95, loc=np.mean(curColumn), scale=st.sem(curColumn))\n",
    "dfSummary = pd.DataFrame(colSummary)\n",
    "dfSummary.columns = ['Valor']\n",
    "\n",
    "curColumn = pd.cut(curColumn, bins_var)\n",
    "dfIntervals = pd.DataFrame(curColumn.value_counts().sort_index())\n",
    "dfIntervals.columns = ['Nº empresas com rendibilidade do ativo dentro do intervalo']\n",
    "display(dfSummary)\n",
    "display(dfIntervals)\n",
    "curColumn.value_counts().sort_index().plot.bar()"
   ]
  },
  {
   "cell_type": "code",
   "execution_count": null,
   "metadata": {
    "execution": {
     "iopub.execute_input": "2022-05-30T14:56:42.339231Z",
     "iopub.status.busy": "2022-05-30T14:56:42.338743Z",
     "iopub.status.idle": "2022-05-30T14:56:42.586194Z",
     "shell.execute_reply": "2022-05-30T14:56:42.584831Z",
     "shell.execute_reply.started": "2022-05-30T14:56:42.339196Z"
    }
   },
   "outputs": [],
   "source": [
    "curColumn = raw_data['Rendibilidade_capitais_proprios']\n",
    "var_rendibilidade_capitais_proprios = curColumn.unique()\n",
    "var_rendibilidade_capitais_proprios.sort()\n",
    "\n",
    "colSummary = curColumn.describe()\n",
    "colSummary.loc['mode'] = curColumn.mode().tolist()[0]\n",
    "dfSummary = pd.DataFrame(colSummary)\n",
    "dfSummary.columns = ['Valor']\n",
    "\n",
    "bins = np.linspace(curColumn.min()-1, curColumn.max()+1, 10)\n",
    "curColumn = pd.cut(curColumn, bins)\n",
    "dfIntervals = pd.DataFrame(curColumn.value_counts().sort_index())\n",
    "dfIntervals.columns = ['Nº empresas com rendibilidade de capitais proprios dentro do intervalo']\n",
    "display(dfSummary)\n",
    "display(dfIntervals)\n",
    "curColumn.value_counts().sort_index().plot.bar()"
   ]
  },
  {
   "cell_type": "code",
   "execution_count": null,
   "metadata": {},
   "outputs": [],
   "source": [
    "curColumn = raw_data['Passivo_curto_prazo_dividir_vendas']\n",
    "var_passivo_curto_prazo_dividir_vendas = curColumn.unique()\n",
    "var_passivo_curto_prazo_dividir_vendas.sort()\n",
    "\n",
    "colSummary = curColumn.describe()\n",
    "colSummary.loc['mode'] = curColumn.mode().tolist()[0]\n",
    "colSummary.loc['confidence-interval'] = st.norm.interval(alpha=0.95, loc=np.mean(curColumn), scale=st.sem(curColumn))\n",
    "dfSummary = pd.DataFrame(colSummary)\n",
    "dfSummary.columns = ['Valor']\n",
    "\n",
    "bins = np.linspace(curColumn.min()-1, curColumn.max()+1, 10)\n",
    "curColumn = pd.cut(curColumn, bins_from_zero)\n",
    "dfIntervals = pd.DataFrame(curColumn.value_counts().sort_index())\n",
    "dfIntervals.columns = ['Nº empresas com passivo curto prazo dividir vendas dentro do intervalo']\n",
    "display(dfSummary)\n",
    "display(dfIntervals)\n",
    "curColumn.value_counts().sort_index().plot.bar()"
   ]
  },
  {
   "cell_type": "code",
   "execution_count": null,
   "metadata": {},
   "outputs": [],
   "source": [
    "curColumn = raw_data['Peso_das_amortizacoes_dividir_vendas']\n",
    "var_peso_das_amortizacoes_dividir_vendas = curColumn.unique()\n",
    "var_peso_das_amortizacoes_dividir_vendas.sort()\n",
    "\n",
    "colSummary = curColumn.describe()\n",
    "colSummary.loc['mode'] = curColumn.mode().tolist()[0]\n",
    "dfSummary = pd.DataFrame(colSummary).apply(lambda s: s.apply('{0:.5f}'.format))\n",
    "dfSummary.columns = ['Valor']\n",
    "\n",
    "bins = np.linspace(curColumn.min()-1, curColumn.max()+1, 10)\n",
    "curColumn = pd.cut(curColumn, bins_from_zero)\n",
    "dfIntervals = pd.DataFrame(curColumn.value_counts().sort_index())\n",
    "dfIntervals.columns = ['Nº empresas com peso das amortizações dividir vendas dentro do intervalo']\n",
    "display(dfSummary)\n",
    "display(dfIntervals)\n",
    "curColumn.value_counts().sort_index().plot.bar()"
   ]
  },
  {
   "cell_type": "code",
   "execution_count": null,
   "metadata": {},
   "outputs": [],
   "source": [
    "curColumn = raw_data['Peso_encargos_financeiros_dividir_vendas']\n",
    "var_peso_encargos_financeiros_dividir_vendas = curColumn.unique()\n",
    "var_peso_encargos_financeiros_dividir_vendas.sort()\n",
    "\n",
    "colSummary = curColumn.describe()\n",
    "colSummary.loc['mode'] = curColumn.mode().tolist()[0]\n",
    "dfSummary = pd.DataFrame(colSummary).apply(lambda s: s.apply('{0:.5f}'.format))\n",
    "dfSummary.columns = ['Valor']\n",
    "\n",
    "bins = np.linspace(curColumn.min()-1, curColumn.max()+1, 10)\n",
    "curColumn = pd.cut(curColumn, bins_from_zero)\n",
    "dfIntervals = pd.DataFrame(curColumn.value_counts().sort_index())\n",
    "dfIntervals.columns = ['Nº empresas com peso encargos financeiros dentro do intervalo']\n",
    "display(dfSummary)\n",
    "display(dfIntervals)\n",
    "curColumn.value_counts().sort_index().plot.bar()"
   ]
  },
  {
   "cell_type": "code",
   "execution_count": null,
   "metadata": {},
   "outputs": [],
   "source": [
    "curColumn = raw_data['Produtividade_por_trabalhador']\n",
    "var_produtividade_por_trabalhador = curColumn.unique()\n",
    "var_produtividade_por_trabalhador.sort()\n",
    "\n",
    "colSummary = curColumn.describe()\n",
    "colSummary.loc['mode'] = curColumn.mode().tolist()[0]\n",
    "colSummary.loc['confidence-interval'] = st.norm.interval(alpha=0.95, loc=np.mean(curColumn), scale=st.sem(curColumn))\n",
    "dfSummary = pd.DataFrame(colSummary)\n",
    "dfSummary.columns = ['Valor']\n",
    "\n",
    "bins = np.linspace(curColumn.min()-1, curColumn.max()+1, 10)\n",
    "curColumn = pd.cut(curColumn, bins)\n",
    "dfIntervals = pd.DataFrame(curColumn.value_counts().sort_index())\n",
    "dfIntervals.columns = ['Nº empresas com produtividade por trabalhador dentro do intervalo']\n",
    "display(dfSummary)\n",
    "display(dfIntervals)\n",
    "curColumn.value_counts().sort_index().plot.bar()"
   ]
  },
  {
   "cell_type": "code",
   "execution_count": null,
   "metadata": {},
   "outputs": [],
   "source": [
    "curColumn = raw_data['Certificacao_legal_contas']\n",
    "var_certificacao_legal_contas = curColumn.unique()\n",
    "var_certificacao_legal_contas.sort()\n",
    "\n",
    "dfIntervals = pd.DataFrame(curColumn.value_counts().sort_index())\n",
    "dfIntervals.columns = ['Nº empresas com/sem certificação legal de contas']\n",
    "display(dfIntervals)\n",
    "curColumn.value_counts().sort_index().plot.pie(\n",
    "    autopct='%1.1f%%',\n",
    "    startangle=90,\n",
    "    radius=2,\n",
    "    pctdistance=1.1,\n",
    "    labeldistance=0.5\n",
    ")"
   ]
  },
  {
   "cell_type": "code",
   "execution_count": null,
   "metadata": {
    "execution": {
     "iopub.execute_input": "2022-05-30T14:57:25.643434Z",
     "iopub.status.busy": "2022-05-30T14:57:25.643024Z",
     "iopub.status.idle": "2022-05-30T14:57:25.767572Z",
     "shell.execute_reply": "2022-05-30T14:57:25.766171Z",
     "shell.execute_reply.started": "2022-05-30T14:57:25.6434Z"
    }
   },
   "outputs": [],
   "source": [
    "curColumn = raw_data['Insolvencia']\n",
    "var_insolvencia = curColumn.unique()\n",
    "var_insolvencia.sort()\n",
    "\n",
    "dfIntervals = pd.DataFrame(curColumn.value_counts().sort_index())\n",
    "dfIntervals.columns = ['Nº empresas em insolvencia (sim/nao)']\n",
    "display(dfIntervals)\n",
    "curColumn.value_counts().sort_index().plot.pie(\n",
    "    autopct='%1.1f%%',\n",
    "    startangle=90,\n",
    "    radius=2,\n",
    "    pctdistance=1.1,\n",
    "    labeldistance=0.5\n",
    ")"
   ]
  },
  {
   "cell_type": "code",
   "execution_count": 3,
   "metadata": {
    "execution": {
     "iopub.execute_input": "2022-05-30T21:45:23.898614Z",
     "iopub.status.busy": "2022-05-30T21:45:23.898121Z",
     "iopub.status.idle": "2022-05-30T21:45:31.252043Z",
     "shell.execute_reply": "2022-05-30T21:45:31.250994Z",
     "shell.execute_reply.started": "2022-05-30T21:45:23.898568Z"
    }
   },
   "outputs": [],
   "source": [
    "# Configuring the matplotlib figure size and title\n",
    "fig, ax = plt.subplots(figsize=(30,30))\n",
    "ax.set_title('Correlation between variables in dataset')\n",
    "\n",
    "# Excluding the categorical columns from dataframe\n",
    "filtered_data = raw_data.drop([\"Distrito\", \"NACE1\", \"NACE2\", \"Certificacao_legal_contas\", \"Insolvencia\"], axis=1)\n",
    "heatmap = sns.heatmap(filtered_data.corr(), vmin=-1, vmax=1, annot=True, ax=ax, cmap=\"icefire\")\n",
    "\n",
    "# Saving the image to a file\n",
    "plt.savefig('correlation_matrix.png', bbox_inches=\"tight\")"
   ]
  },
  {
   "cell_type": "code",
   "execution_count": null,
   "metadata": {
    "execution": {
     "iopub.execute_input": "2022-05-30T14:59:43.823335Z",
     "iopub.status.busy": "2022-05-30T14:59:43.822934Z",
     "iopub.status.idle": "2022-05-30T14:59:43.850843Z",
     "shell.execute_reply": "2022-05-30T14:59:43.849983Z",
     "shell.execute_reply.started": "2022-05-30T14:59:43.823305Z"
    }
   },
   "outputs": [],
   "source": [
    "raw_data.head()"
   ]
  },
  {
   "cell_type": "code",
   "execution_count": null,
   "metadata": {
    "execution": {
     "iopub.execute_input": "2022-05-30T15:00:23.043915Z",
     "iopub.status.busy": "2022-05-30T15:00:23.043419Z",
     "iopub.status.idle": "2022-05-30T15:00:27.41106Z",
     "shell.execute_reply": "2022-05-30T15:00:27.409863Z",
     "shell.execute_reply.started": "2022-05-30T15:00:23.043854Z"
    }
   },
   "outputs": [],
   "source": [
    "import seaborn as sn\n",
    "m=raw_data.corr()\n",
    "sn.heatmap(m, annot=True)"
   ]
  },
  {
   "cell_type": "code",
   "execution_count": null,
   "metadata": {
    "execution": {
     "iopub.execute_input": "2022-05-30T15:01:31.836961Z",
     "iopub.status.busy": "2022-05-30T15:01:31.835559Z",
     "iopub.status.idle": "2022-05-30T15:15:14.503623Z",
     "shell.execute_reply": "2022-05-30T15:15:14.502452Z",
     "shell.execute_reply.started": "2022-05-30T15:01:31.836895Z"
    }
   },
   "outputs": [],
   "source": [
    "sn.set_theme(style=\"dark\")\n",
    "g=sn.pairplot(raw_data, hue=\"Insolvencia\")\n",
    "g.savefig(\"scatterplot_matrix.png\")"
   ]
  }
 ],
 "metadata": {
  "kernelspec": {
   "display_name": "Python 3 (ipykernel)",
   "language": "python",
   "name": "python3"
  },
  "language_info": {
   "codemirror_mode": {
    "name": "ipython",
    "version": 3
   },
   "file_extension": ".py",
   "mimetype": "text/x-python",
   "name": "python",
   "nbconvert_exporter": "python",
   "pygments_lexer": "ipython3",
   "version": "3.10.0"
  }
 },
 "nbformat": 4,
 "nbformat_minor": 4
}
